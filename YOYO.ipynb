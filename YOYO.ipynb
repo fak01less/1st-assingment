{
 "cells": [
  {
   "cell_type": "code",
   "execution_count": 1,
   "metadata": {},
   "outputs": [
    {
     "name": "stdout",
     "output_type": "stream",
     "text": [
      "twinkle twinkle little star\n",
      "      How I wonder what you are!\n",
      "            Up above the world so high,\n",
      "            Like a diomond in the sky.\n",
      "Twinkle twinkle, little star\n",
      "       How I wonder what you are\n"
     ]
    }
   ],
   "source": [
    "\n",
    "print(\"twinkle twinkle little star\")\n",
    "print(\"      How I wonder what you are!\")\n",
    "print(\"            Up above the world so high,\")\n",
    "print(\"            Like a diomond in the sky.\")\n",
    "print(\"Twinkle twinkle, little star\")\n",
    "print(\"       How I wonder what you are\")\n"
   ]
  },
  {
   "cell_type": "code",
   "execution_count": 2,
   "metadata": {},
   "outputs": [
    {
     "name": "stdout",
     "output_type": "stream",
     "text": [
      "python version 3.7.4\n"
     ]
    }
   ],
   "source": [
    "a=\"python version 3.7.4\"\n",
    "print(a)\n"
   ]
  },
  {
   "cell_type": "code",
   "execution_count": 3,
   "metadata": {},
   "outputs": [
    {
     "name": "stdout",
     "output_type": "stream",
     "text": [
      "date = 31/10/19\n",
      "time = 12:30\n"
     ]
    }
   ],
   "source": [
    "a=\"date = 31/10/19\"\n",
    "b=\"time = 12:30\"\n",
    "print(a)\n",
    "print(b)\n"
   ]
  },
  {
   "cell_type": "code",
   "execution_count": 4,
   "metadata": {},
   "outputs": [
    {
     "name": "stdout",
     "output_type": "stream",
     "text": [
      "enter radius of circle9\n",
      "area is= 254.50199999999998\n"
     ]
    }
   ],
   "source": [
    "r=float(input(\"enter radius of circle\"))\n",
    "pie=3.142\n",
    "area=3.142*r**2\n",
    "print(\"area is\"+\"=\"+\" \"+str(area))\n"
   ]
  },
  {
   "cell_type": "code",
   "execution_count": 5,
   "metadata": {},
   "outputs": [
    {
     "name": "stdout",
     "output_type": "stream",
     "text": [
      "enter your first nameFAHAD\n",
      "enter your last nameIQBAL\n",
      "your reversed name is=IQBAL FAHAD\n"
     ]
    }
   ],
   "source": [
    "a=input(\"enter your first name\")\n",
    "b=input(\"enter your last name\")\n",
    "print(\"your reversed name is\"+\"=\"+b+\" \"+a)\n"
   ]
  },
  {
   "cell_type": "code",
   "execution_count": 6,
   "metadata": {},
   "outputs": [
    {
     "name": "stdout",
     "output_type": "stream",
     "text": [
      "enter any two numbers\n",
      "num1= 4\n",
      "num2= 6\n",
      "sum is=  10\n"
     ]
    }
   ],
   "source": [
    "print(\"enter any two numbers\")\n",
    "a=int(input(\"num1= \"))\n",
    "b=int(input(\"num2= \"))\n",
    "sum=a+b\n",
    "print(\"sum is\"+\"=\"+\" \",sum)\n"
   ]
  },
  {
   "cell_type": "code",
   "execution_count": null,
   "metadata": {},
   "outputs": [],
   "source": []
  }
 ],
 "metadata": {
  "kernelspec": {
   "display_name": "Python 3",
   "language": "python",
   "name": "python3"
  },
  "language_info": {
   "codemirror_mode": {
    "name": "ipython",
    "version": 3
   },
   "file_extension": ".py",
   "mimetype": "text/x-python",
   "name": "python",
   "nbconvert_exporter": "python",
   "pygments_lexer": "ipython3",
   "version": "3.7.4"
  }
 },
 "nbformat": 4,
 "nbformat_minor": 2
}
